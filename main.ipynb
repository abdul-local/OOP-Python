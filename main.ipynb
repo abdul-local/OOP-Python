{
 "metadata": {
  "language_info": {
   "codemirror_mode": {
    "name": "ipython",
    "version": 3
   },
   "file_extension": ".py",
   "mimetype": "text/x-python",
   "name": "python",
   "nbconvert_exporter": "python",
   "pygments_lexer": "ipython3",
   "version": "3.9.2"
  },
  "orig_nbformat": 2,
  "kernelspec": {
   "name": "python392jvsc74a57bd06cbb41571b20674ffee661aa3e8e8b885ec56c497d88337beffcf280b455b3f0",
   "display_name": "Python 3.9.2 64-bit"
  },
  "metadata": {
   "interpreter": {
    "hash": "6cbb41571b20674ffee661aa3e8e8b885ec56c497d88337beffcf280b455b3f0"
   }
  }
 },
 "nbformat": 4,
 "nbformat_minor": 2,
 "cells": [
  {
   "cell_type": "code",
   "execution_count": 7,
   "metadata": {},
   "outputs": [
    {
     "output_type": "stream",
     "name": "stdout",
     "text": [
      "100\n{'nama': 'sniper', 'helth': 100}\n{'nama': 'monster', 'helth': 200}\n"
     ]
    }
   ],
   "source": [
    "class Hero:\n",
    "    pass\n",
    "hero1=Hero() # instance object\n",
    "hero2=Hero()\n",
    "\n",
    "hero1.nama=\"sniper\"\n",
    "hero1.helth=100\n",
    "hero2.nama=\"monster\"\n",
    "hero2.helth=200\n",
    "\n",
    "print(hero1.helth)\n",
    "print(hero1.__dict__)\n",
    "print(hero2.__dict__)\n",
    "    \n"
   ]
  },
  {
   "cell_type": "code",
   "execution_count": 27,
   "metadata": {},
   "outputs": [
    {
     "output_type": "stream",
     "name": "stdout",
     "text": [
      "memangil hero dengan nama superman\nmemangil hero dengan nama batman\nmemangil hero dengan nama thor\n{'nama': 'superman', 'kekuatan': 120, 'kesehatan': 5, 'pertahanan': 100}\n{'nama': 'batman', 'kekuatan': 100, 'kesehatan': 2, 'pertahanan': 120}\n{'nama': 'thor', 'kekuatan': 100, 'kesehatan': 3, 'pertahanan': 100}\n"
     ]
    }
   ],
   "source": [
    "class Pahlawan:\n",
    "    #Class variabel\n",
    "    jumlah=0\n",
    "   \n",
    "     \n",
    "    def __init__(self,inputnama,power,health,defend):\n",
    "        # instance variabel\n",
    "        self.nama=inputnama\n",
    "        self.kekuatan=power\n",
    "        self.kesehatan=health\n",
    "        self.pertahanan=defend\n",
    "        Pahlawan.jumlah+=1\n",
    "        print(f'memangil hero dengan nama {inputnama}')\n",
    "    \n",
    "\n",
    "# buat sebuah object\n",
    "pahlawan1=Pahlawan('superman',120,5,100)\n",
    "pahlawan2=Pahlawan('batman',100,2,120)\n",
    "pahlawan3=Pahlawan('thor',100,3,100)\n",
    "print(pahlawan1.__dict__)\n",
    "print(pahlawan2.__dict__)\n",
    "print(pahlawan3.__dict__)\n",
    "\n",
    "# batman=Pahlawan('rodi')\n",
    "# print(superman)"
   ]
  },
  {
   "cell_type": "code",
   "execution_count": 30,
   "metadata": {},
   "outputs": [
    {
     "output_type": "stream",
     "name": "stdout",
     "text": [
      "memangil hero dengan nama superman\n10\nmemangil hero dengan nama batman\n11\nmemangil hero dengan nama thor\n12\n"
     ]
    }
   ],
   "source": [
    "pahlawan1=Pahlawan('superman',120,5,100)\n",
    "print(Pahlawan.jumlah)\n",
    "pahlawan2=Pahlawan('batman',100,2,120)\n",
    "print(Pahlawan.jumlah)\n",
    "pahlawan3=Pahlawan('thor',100,3,100)\n",
    "print(Pahlawan.jumlah)"
   ]
  },
  {
   "cell_type": "code",
   "execution_count": 36,
   "metadata": {},
   "outputs": [
    {
     "output_type": "stream",
     "name": "stdout",
     "text": [
      "{'nama': 'super hero', 'kekuatan': 100, 'kecepatan': 80, 'penyerangan': 90, 'pertahanan': 90, 'nyawa': 100}\nHai nama saya super hero\nNone\n100\n{'nama': 'capten amerika', 'kekuatan': 100, 'kecepatan': 100, 'penyerangan': 100, 'pertahanan': 100, 'nyawa': 100}\n{'nama': 'hulk', 'kekuatan': 120, 'kecepatan': 100, 'penyerangan': 100, 'pertahanan': 80, 'nyawa': 100}\n"
     ]
    }
   ],
   "source": [
    "class Hero1:\n",
    "    jumlah_hero=0\n",
    "    def __init__(self,nama,kekuatan,kecepatan,penyerangan,pertahanan,nyawa):\n",
    "        self.nama=nama\n",
    "        self.kekuatan=kekuatan\n",
    "        self.kecepatan=kecepatan\n",
    "        self.penyerangan=penyerangan\n",
    "        self.pertahanan=pertahanan\n",
    "        self.nyawa=nyawa\n",
    "        Hero1.jumlah_hero+=1\n",
    "    # fungsi tanpa return\n",
    "    def siapa(self):\n",
    "        print(f'Hai nama saya {self.nama}')\n",
    "    #fungsi dengan paramter\n",
    "    def tambahkekuatan(self,tambah):\n",
    "        self.kekuatan+=tambah\n",
    "    #fungsi dengan return\n",
    "    def munculkannyawa(self):\n",
    "        return self.nyawa\n",
    "\n",
    "pahlawan4=Hero1('super hero',100,80,90,90,100)\n",
    "pahlawan5=Hero1('capten amerika',100,100,100,100,100)\n",
    "pahlawan6=Hero1('hulk',120,100,100,80,100)\n",
    "print(pahlawan4.__dict__)\n",
    "pahlawan4.siapa()\n",
    "print(pahlawan4.tambahkekuatan(100))\n",
    "print(pahlawan4.munculkannyawa())\n",
    "print(pahlawan5.__dict__)\n",
    "print(pahlawan6.__dict__)"
   ]
  },
  {
   "cell_type": "code",
   "execution_count": null,
   "metadata": {},
   "outputs": [],
   "source": []
  }
 ]
}