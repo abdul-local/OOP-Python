{
 "metadata": {
  "language_info": {
   "codemirror_mode": {
    "name": "ipython",
    "version": 3
   },
   "file_extension": ".py",
   "mimetype": "text/x-python",
   "name": "python",
   "nbconvert_exporter": "python",
   "pygments_lexer": "ipython3",
   "version": "3.9.2"
  },
  "orig_nbformat": 2,
  "kernelspec": {
   "name": "python392jvsc74a57bd06cbb41571b20674ffee661aa3e8e8b885ec56c497d88337beffcf280b455b3f0",
   "display_name": "Python 3.9.2 64-bit"
  },
  "metadata": {
   "interpreter": {
    "hash": "6cbb41571b20674ffee661aa3e8e8b885ec56c497d88337beffcf280b455b3f0"
   }
  }
 },
 "nbformat": 4,
 "nbformat_minor": 2,
 "cells": [
  {
   "cell_type": "code",
   "execution_count": 8,
   "metadata": {},
   "outputs": [
    {
     "output_type": "stream",
     "name": "stdout",
     "text": [
      "{'nama': 'superman', 'darah': 200}\n{'nama': 'batman', 'darah': 150}\nshow info di class sub hero\nnama :superman darah:200 tipe:intelegent\nshow info di class hero\n nama: batman darah:150\n"
     ]
    }
   ],
   "source": [
    "class Hero:\n",
    "    def __init__(self,nama,darah):\n",
    "        self.nama=nama \n",
    "        self.darah=darah \n",
    "    def showInfo(self):\n",
    "        print('show info di class hero')\n",
    "        print(f' nama: {self.nama} darah:{self.darah}')\n",
    "\n",
    "class Hero_Intelegent(Hero):\n",
    "    def __init__(self,nama):\n",
    "        super().__init__(nama,200)\n",
    "    def showInfo(self,tipe):\n",
    "        print('show info di class sub hero')\n",
    "        print(f'nama :{self.nama} darah:{self.darah} tipe:{tipe}')\n",
    "      \n",
    "class Hero_Smart(Hero):\n",
    "    def __init__(self,nama):\n",
    "        super().__init__(nama,150)\n",
    "\n",
    "    \n",
    "\n",
    "superman=Hero_Intelegent('superman')\n",
    "batman=Hero_Smart('batman')\n",
    "print(superman.__dict__)\n",
    "print(batman.__dict__)\n",
    "superman.showInfo('intelegent')\n",
    "batman.showInfo()"
   ]
  },
  {
   "cell_type": "code",
   "execution_count": null,
   "metadata": {},
   "outputs": [],
   "source": []
  }
 ]
}