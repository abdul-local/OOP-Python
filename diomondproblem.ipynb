{
 "metadata": {
  "language_info": {
   "codemirror_mode": {
    "name": "ipython",
    "version": 3
   },
   "file_extension": ".py",
   "mimetype": "text/x-python",
   "name": "python",
   "nbconvert_exporter": "python",
   "pygments_lexer": "ipython3",
   "version": "3.9.2"
  },
  "orig_nbformat": 2,
  "kernelspec": {
   "name": "python392jvsc74a57bd06cbb41571b20674ffee661aa3e8e8b885ec56c497d88337beffcf280b455b3f0",
   "display_name": "Python 3.9.2 64-bit"
  },
  "metadata": {
   "interpreter": {
    "hash": "6cbb41571b20674ffee661aa3e8e8b885ec56c497d88337beffcf280b455b3f0"
   }
  }
 },
 "nbformat": 4,
 "nbformat_minor": 2,
 "cells": [
  {
   "cell_type": "code",
   "execution_count": 3,
   "metadata": {},
   "outputs": [
    {
     "output_type": "stream",
     "name": "stdout",
     "text": [
      "Help on D in module __main__ object:\n\nclass D(B, C)\n |  Method resolution order:\n |      D\n |      B\n |      C\n |      A\n |      builtins.object\n |  \n |  Methods defined here:\n |  \n |  show(self)\n |  \n |  ----------------------------------------------------------------------\n |  Data descriptors inherited from A:\n |  \n |  __dict__\n |      dictionary for instance variables (if defined)\n |  \n |  __weakref__\n |      list of weak references to the object (if defined)\n\n"
     ]
    }
   ],
   "source": [
    "# diomond problem\n",
    "class A:\n",
    "    def show(self):\n",
    "        print(\"show A\")\n",
    "class B(A):\n",
    "    def show(self):\n",
    "        print(\"show B\")\n",
    "class C(A):\n",
    "    def show(self):\n",
    "        print(\"show C\")\n",
    "class D(B,C):\n",
    "    def show(self):\n",
    "        print(\"show D\")\n",
    "superman=D()\n",
    "help(superman)\n",
    "# superman.show()"
   ]
  },
  {
   "cell_type": "code",
   "execution_count": null,
   "metadata": {},
   "outputs": [],
   "source": []
  }
 ]
}