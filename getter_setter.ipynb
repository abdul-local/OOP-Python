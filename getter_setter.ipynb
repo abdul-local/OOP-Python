{
 "metadata": {
  "language_info": {
   "codemirror_mode": {
    "name": "ipython",
    "version": 3
   },
   "file_extension": ".py",
   "mimetype": "text/x-python",
   "name": "python",
   "nbconvert_exporter": "python",
   "pygments_lexer": "ipython3",
   "version": "3.9.2"
  },
  "orig_nbformat": 2,
  "kernelspec": {
   "name": "python392jvsc74a57bd06cbb41571b20674ffee661aa3e8e8b885ec56c497d88337beffcf280b455b3f0",
   "display_name": "Python 3.9.2 64-bit"
  },
  "metadata": {
   "interpreter": {
    "hash": "6cbb41571b20674ffee661aa3e8e8b885ec56c497d88337beffcf280b455b3f0"
   }
  }
 },
 "nbformat": 4,
 "nbformat_minor": 2,
 "cells": [
  {
   "cell_type": "code",
   "execution_count": 51,
   "metadata": {},
   "outputs": [
    {
     "output_type": "stream",
     "name": "stdout",
     "text": [
      "nama superman: \n\tdarah 100: \nsuperman\n120\n getter dan setter untuk penyerangan\n proses delet\nproses delete penyerangan\n{'_Hero__nama': 'superman', '_Hero__kekuatan': 100, '_Hero__penyerangan': 120, '_Hero__darah': 100}\n"
     ]
    }
   ],
   "source": [
    "class Hero:\n",
    "    def __init__(self,nama,kekuatan,penyerangan,darah):\n",
    "        self.__nama=nama\n",
    "        self.__kekuatan=kekuatan\n",
    "        self.__penyerangan=penyerangan\n",
    "        self.__darah=darah\n",
    "\n",
    "    #ini bukan method tapi property\n",
    "    @property\n",
    "    def info(self):\n",
    "        return \"nama {}: \\n\\tdarah {}: \".format(self.__nama,self.__darah)\n",
    "\n",
    "    #getter\n",
    "    def getNama(self):\n",
    "        return self.__nama\n",
    "\n",
    "    #buat property dengan nama armor\n",
    "    @property\n",
    "    def penyerangan(self):\n",
    "        pass\n",
    "    \n",
    "    @penyerangan.getter\n",
    "    def penyerangan(self):\n",
    "        return self.__penyerangan\n",
    "\n",
    "    @penyerangan.setter\n",
    "    def penyerangan(self,input):\n",
    "        return self.__penyerangan = input\n",
    "\n",
    "    @penyerangan.deleter\n",
    "    def penyerangan(self):\n",
    "        print('proses delete penyerangan')\n",
    "        return self.__penyerangan == None\n",
    "\n",
    "\n",
    "superman=Hero('superman',100,120,100)\n",
    "print(superman.info)\n",
    "print(superman.getNama())\n",
    "print(superman.penyerangan)\n",
    "\n",
    "print(' getter dan setter untuk penyerangan')\n",
    "print(superman.penyerangan)\n",
    "# Hero.p=50\n",
    "print(superman.penyerangan)\n",
    "print(' proses delet')\n",
    "del superman.penyerangan\n",
    "print(superman.__dict__)\n"
   ]
  },
  {
   "cell_type": "code",
   "execution_count": null,
   "metadata": {},
   "outputs": [],
   "source": []
  }
 ]
}