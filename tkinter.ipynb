{
 "metadata": {
  "language_info": {
   "codemirror_mode": {
    "name": "ipython",
    "version": 3
   },
   "file_extension": ".py",
   "mimetype": "text/x-python",
   "name": "python",
   "nbconvert_exporter": "python",
   "pygments_lexer": "ipython3",
   "version": "3.9.2"
  },
  "orig_nbformat": 2,
  "kernelspec": {
   "name": "python392jvsc74a57bd06cbb41571b20674ffee661aa3e8e8b885ec56c497d88337beffcf280b455b3f0",
   "display_name": "Python 3.9.2 64-bit"
  },
  "metadata": {
   "interpreter": {
    "hash": "6cbb41571b20674ffee661aa3e8e8b885ec56c497d88337beffcf280b455b3f0"
   }
  }
 },
 "nbformat": 4,
 "nbformat_minor": 2,
 "cells": [
  {
   "cell_type": "code",
   "execution_count": 6,
   "metadata": {},
   "outputs": [],
   "source": [
    "import tkinter\n",
    "main_window=tkinter.Tk()\n",
    "# print(main_window.__dict__)\n",
    "label1=tkinter.Label(main_window,text=\"label 1\")\n",
    "label2=tkinter.Label(main_window,text=\"label 2\")\n",
    "tombol1=tkinter.Button(main_window,text=\"tombol 1\")\n",
    "tombol2=tkinter.Button(main_window,text=\"tombol 2\")\n",
    "\n",
    "#Method positioning\n",
    "label1.pack()\n",
    "label2.pack()\n",
    "tombol1.pack()\n",
    "tombol2.pack()\n",
    "\n",
    "#menampilkan gui\n",
    "main_window.mainloop()\n"
   ]
  },
  {
   "cell_type": "code",
   "execution_count": null,
   "metadata": {},
   "outputs": [],
   "source": []
  }
 ]
}