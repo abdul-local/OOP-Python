{
 "metadata": {
  "language_info": {
   "codemirror_mode": {
    "name": "ipython",
    "version": 3
   },
   "file_extension": ".py",
   "mimetype": "text/x-python",
   "name": "python",
   "nbconvert_exporter": "python",
   "pygments_lexer": "ipython3",
   "version": "3.9.2"
  },
  "orig_nbformat": 2,
  "kernelspec": {
   "name": "python392jvsc74a57bd06cbb41571b20674ffee661aa3e8e8b885ec56c497d88337beffcf280b455b3f0",
   "display_name": "Python 3.9.2 64-bit"
  },
  "metadata": {
   "interpreter": {
    "hash": "6cbb41571b20674ffee661aa3e8e8b885ec56c497d88337beffcf280b455b3f0"
   }
  }
 },
 "nbformat": 4,
 "nbformat_minor": 2,
 "cells": [
  {
   "cell_type": "code",
   "execution_count": 7,
   "metadata": {},
   "outputs": [
    {
     "output_type": "stream",
     "name": "stdout",
     "text": [
      "{'__module__': '__main__', 'jumlah': 0, '_Hero__privatejumlah': 12, '__init__': <function Hero.__init__ at 0x0000016ECFBC4B80>, '__dict__': <attribute '__dict__' of 'Hero' objects>, '__weakref__': <attribute '__weakref__' of 'Hero' objects>, '__doc__': None}\n{'name': 'superhero', 'darah': 100, '_Hero__private': 'private', '_protected': 'protectd'}\n{'name': 'superhero', 'darah': 100, '_Hero__private': 'private', '_protected': 'abdul hamzan', '__private': 'abdul'}\n"
     ]
    }
   ],
   "source": [
    "class Hero:\n",
    "    jumlah=0\n",
    "    __privatejumlah=12\n",
    "\n",
    "    def __init__(self,name,darah):\n",
    "        self.name=name\n",
    "        self.darah=darah\n",
    "        #variabel instance private ini tidak bisa di rubah \n",
    "        self.__private=\"private\"\n",
    "        #variabel instance protected  berlaku sama sperti public\n",
    "        self._protected=\"protectd\"\n",
    "\n",
    "superman=Hero('superhero',100)\n",
    "print(Hero.__dict__)\n",
    "\n",
    "print(superman.__dict__)\n",
    "superman.__private=\"abdul\"\n",
    "superman._protected=\"abdul hamzan\"\n",
    "print(superman.__dict__)\n",
    "\n",
    "\n"
   ]
  },
  {
   "cell_type": "code",
   "execution_count": null,
   "metadata": {},
   "outputs": [],
   "source": []
  }
 ]
}