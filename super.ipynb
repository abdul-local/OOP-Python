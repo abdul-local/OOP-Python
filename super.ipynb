{
 "metadata": {
  "language_info": {
   "codemirror_mode": {
    "name": "ipython",
    "version": 3
   },
   "file_extension": ".py",
   "mimetype": "text/x-python",
   "name": "python",
   "nbconvert_exporter": "python",
   "pygments_lexer": "ipython3",
   "version": "3.9.2"
  },
  "orig_nbformat": 2,
  "kernelspec": {
   "name": "python392jvsc74a57bd06cbb41571b20674ffee661aa3e8e8b885ec56c497d88337beffcf280b455b3f0",
   "display_name": "Python 3.9.2 64-bit"
  },
  "metadata": {
   "interpreter": {
    "hash": "6cbb41571b20674ffee661aa3e8e8b885ec56c497d88337beffcf280b455b3f0"
   }
  }
 },
 "nbformat": 4,
 "nbformat_minor": 2,
 "cells": [
  {
   "cell_type": "code",
   "execution_count": 8,
   "metadata": {},
   "outputs": [
    {
     "output_type": "stream",
     "name": "stdout",
     "text": [
      "nama :lina darah:100\nnama hero:lina dan darah:100\nnama hero:takesi dan darah:150\n"
     ]
    }
   ],
   "source": [
    "class Hero:\n",
    "    def __init__(self,nama,darah):\n",
    "        self.nama=nama\n",
    "        self.darah=darah\n",
    "    def showinfo(self):\n",
    "        print(f'nama :{self.nama} darah:{self.darah}')\n",
    "\n",
    "class Hero_Intelegent(Hero):\n",
    "    def __init__(self,nama):\n",
    "        Hero.__init__(self,nama,100)\n",
    "        super().showinfo()\n",
    "        # self.nama=nama\n",
    "        # self.darah=200\n",
    "class Hero_Strength(Hero):\n",
    "    def __init__(self,nama):\n",
    "        # self.nama=nama\n",
    "        # self.darah=300\n",
    "        #menggunakan super lebih simple dan mudah\n",
    "        super().__init__(nama,150)\n",
    "        \n",
    "\n",
    "lina=Hero_Intelegent('lina')\n",
    "takesi=Hero_Strength('takesi')\n",
    "print(f'nama hero:{lina.nama} dan darah:{lina.darah}')\n",
    "print(f'nama hero:{takesi.nama} dan darah:{takesi.darah}')\n",
    "    "
   ]
  },
  {
   "cell_type": "code",
   "execution_count": null,
   "metadata": {},
   "outputs": [],
   "source": []
  }
 ]
}