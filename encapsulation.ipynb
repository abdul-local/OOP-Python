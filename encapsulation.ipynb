{
 "metadata": {
  "language_info": {
   "codemirror_mode": {
    "name": "ipython",
    "version": 3
   },
   "file_extension": ".py",
   "mimetype": "text/x-python",
   "name": "python",
   "nbconvert_exporter": "python",
   "pygments_lexer": "ipython3",
   "version": "3.9.2"
  },
  "orig_nbformat": 2,
  "kernelspec": {
   "name": "python392jvsc74a57bd06cbb41571b20674ffee661aa3e8e8b885ec56c497d88337beffcf280b455b3f0",
   "display_name": "Python 3.9.2 64-bit"
  },
  "metadata": {
   "interpreter": {
    "hash": "6cbb41571b20674ffee661aa3e8e8b885ec56c497d88337beffcf280b455b3f0"
   }
  }
 },
 "nbformat": 4,
 "nbformat_minor": 2,
 "cells": [
  {
   "cell_type": "code",
   "execution_count": 21,
   "metadata": {},
   "outputs": [
    {
     "output_type": "error",
     "ename": "SyntaxError",
     "evalue": "invalid syntax (<ipython-input-21-01542879b966>, line 15)",
     "traceback": [
      "\u001b[1;36m  File \u001b[1;32m\"<ipython-input-21-01542879b966>\"\u001b[1;36m, line \u001b[1;32m15\u001b[0m\n\u001b[1;33m    return self.__darah -= lawan\u001b[0m\n\u001b[1;37m                        ^\u001b[0m\n\u001b[1;31mSyntaxError\u001b[0m\u001b[1;31m:\u001b[0m invalid syntax\n"
     ]
    }
   ],
   "source": [
    "class Hero:\n",
    "    def __init__(self,name,darah,menyerang):\n",
    "        # sifat aksesnya privat\n",
    "        self.__name=name\n",
    "        self.__darah=darah\n",
    "        self.__nyerang=menyerang\n",
    "    \n",
    "    # getter\n",
    "    def getName(self):\n",
    "        return self.__name \n",
    "    def getDarah(self):\n",
    "        return self.__darah\n",
    "\n",
    "    # setter\n",
    "    def diserang(self,lawan):\n",
    "        return self.__darah -= lawan\n",
    "\n",
    "# awal dari game\n",
    "superman=Hero('superman',10,10)\n",
    "print(superman.__dict__)\n",
    "#game berjalan\n",
    "\n",
    "# gimana cara mengubah variabel yang di set privat\n",
    "print(superman.getName())\n",
    "print(superman.getDarah())\n",
    "\n",
    "# kemudian superman di serang\n",
    "superman.diserang(2)\n",
    "print(superman.getDarah())\n",
    " \n",
    "# Catatan penting\n",
    "# buat variabel semuanya private\n",
    "# gunakan getter dan setter utuk get variabel dan setting variabel\n"
   ]
  },
  {
   "cell_type": "code",
   "execution_count": null,
   "metadata": {},
   "outputs": [],
   "source": []
  }
 ]
}