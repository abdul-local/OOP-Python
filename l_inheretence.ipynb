{
 "metadata": {
  "language_info": {
   "codemirror_mode": {
    "name": "ipython",
    "version": 3
   },
   "file_extension": ".py",
   "mimetype": "text/x-python",
   "name": "python",
   "nbconvert_exporter": "python",
   "pygments_lexer": "ipython3",
   "version": 3
  },
  "orig_nbformat": 2
 },
 "nbformat": 4,
 "nbformat_minor": 2,
 "cells": [
  {
   "cell_type": "code",
   "execution_count": null,
   "metadata": {},
   "outputs": [],
   "source": [
    "class Hero:\n",
    "    def __init__(self,nama):\n",
    "        self.__health_pool=[0,100,200,300,400,500]\n",
    "        self.__attPower_pool=[0,10,20,30,40,50]\n",
    "        self.__armor_pool=[0,1,2,3,4,5]\n",
    "        self.__nama=nama\n",
    "        self.__exp=0,\n",
    "        self.__level=0\n",
    "\n",
    "    def show_info(self):\n",
    "        print(f,'nama:{self.__nama} health_pool:{self.__health_pool} attPower:{self.__attPower} aromor:{self.__aromor_pool} experience:{self.__exp} ')\n",
    "        @property\n",
    "        def __health_pool():\n",
    "            pass\n",
    "        @property\n",
    "        def __attPower_pool():\n",
    "            pass\n",
    "        @property\n",
    "        def __aromor_pool():\n",
    "            pass \n",
    "        @property\n",
    "        def __exp():\n",
    "            pass \n",
    "        @property\n",
    "        def __level():\n",
    "            pass\n",
    "        @health_pool.setter\n",
    "        def __health_pool(self,input):\n",
    "            self.__health_pool=input\n",
    "            \n",
    "\n"
   ]
  }
 ]
}