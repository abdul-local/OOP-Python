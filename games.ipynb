{
 "metadata": {
  "language_info": {
   "codemirror_mode": {
    "name": "ipython",
    "version": 3
   },
   "file_extension": ".py",
   "mimetype": "text/x-python",
   "name": "python",
   "nbconvert_exporter": "python",
   "pygments_lexer": "ipython3",
   "version": "3.9.2"
  },
  "orig_nbformat": 2,
  "kernelspec": {
   "name": "python392jvsc74a57bd06cbb41571b20674ffee661aa3e8e8b885ec56c497d88337beffcf280b455b3f0",
   "display_name": "Python 3.9.2 64-bit"
  },
  "metadata": {
   "interpreter": {
    "hash": "6cbb41571b20674ffee661aa3e8e8b885ec56c497d88337beffcf280b455b3f0"
   }
  }
 },
 "nbformat": 4,
 "nbformat_minor": 2,
 "cells": [
  {
   "cell_type": "code",
   "execution_count": 10,
   "metadata": {},
   "outputs": [
    {
     "output_type": "stream",
     "name": "stdout",
     "text": [
      "========Hulk Melakukan Penyerangan=============== :\nHulk menyerarang Iron Man\nIron Man diserang Hulk\nserangan terasa: 1.25\nsisa darah menjadi : 118.75\n============Iron Melakukan Penyerangan============ :\nIron Man menyerarang Hulk\nIron Man diserang Hulk\nserangan terasa: 1.25\nsisa darah menjadi : 118.75\n"
     ]
    }
   ],
   "source": [
    "class Hero:\n",
    "    def __init__(self,nama,darah,serang,bertahan):\n",
    "        self.nama=nama\n",
    "        self.darah=darah\n",
    "        self.serang=serang\n",
    "        self.bertahan=bertahan\n",
    "\n",
    "    def menyerang(self,lawan):\n",
    "        print(f'{self.nama} menyerarang {lawan.nama}')\n",
    "        iron.diserang(hulk)\n",
    "    def diserang(self,lawan):\n",
    "        print(f'{self.nama} diserang {lawan.nama}')\n",
    "        serang_trima=lawan.serang/self.bertahan\n",
    "        print(f'serangan terasa: {serang_trima}')\n",
    "        sisa_darah=self.darah-serang_trima\n",
    "        print(f'sisa darah menjadi : {sisa_darah}')\n",
    "\n",
    "\n",
    "hulk=Hero('Hulk',100,10,5)\n",
    "iron=Hero('Iron Man',120,12,8)\n",
    "print('========Hulk Melakukan Penyerangan=============== :')\n",
    "hulk.menyerang(iron)\n",
    "print('============Iron Melakukan Penyerangan============ :')\n",
    "\n",
    "iron.menyerang(hulk)\n"
   ]
  },
  {
   "cell_type": "code",
   "execution_count": 25,
   "metadata": {},
   "outputs": [],
   "source": [
    "\n",
    "\n",
    "\n",
    "\n",
    "\n",
    "\n"
   ]
  }
 ]
}