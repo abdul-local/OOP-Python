{
 "metadata": {
  "language_info": {
   "codemirror_mode": {
    "name": "ipython",
    "version": 3
   },
   "file_extension": ".py",
   "mimetype": "text/x-python",
   "name": "python",
   "nbconvert_exporter": "python",
   "pygments_lexer": "ipython3",
   "version": "3.9.2"
  },
  "orig_nbformat": 2,
  "kernelspec": {
   "name": "python392jvsc74a57bd06cbb41571b20674ffee661aa3e8e8b885ec56c497d88337beffcf280b455b3f0",
   "display_name": "Python 3.9.2 64-bit"
  },
  "metadata": {
   "interpreter": {
    "hash": "6cbb41571b20674ffee661aa3e8e8b885ec56c497d88337beffcf280b455b3f0"
   }
  }
 },
 "nbformat": 4,
 "nbformat_minor": 2,
 "cells": [
  {
   "cell_type": "code",
   "execution_count": 2,
   "metadata": {},
   "outputs": [
    {
     "output_type": "stream",
     "name": "stdout",
     "text": [
      "ini method A\nini method B\n"
     ]
    }
   ],
   "source": [
    "class A:\n",
    "    def method_A(self):\n",
    "        print(\"ini method A\")\n",
    "class B:\n",
    "    def method_B(self):\n",
    "        print(\"ini method B\")\n",
    "class Sesuatu(A,B):\n",
    "    pass\n",
    "\n",
    "superman=Sesuatu()\n",
    "superman.method_A()\n",
    "superman.method_B()"
   ]
  },
  {
   "cell_type": "code",
   "execution_count": 10,
   "metadata": {},
   "outputs": [
    {
     "output_type": "stream",
     "name": "stdout",
     "text": [
      "rans ciligon\n{'team': 'rans ciligon', 'tipe': 200}\n"
     ]
    }
   ],
   "source": [
    "class Team():\n",
    "    def setTeam(self,team):\n",
    "        self.team=team\n",
    "    def showTeam(self):\n",
    "        print(self.team)\n",
    "class Tipe_Hero():\n",
    "    def setTipe(self,tipe):\n",
    "        self.tipe=tipe\n",
    "    def showTipe(self):\n",
    "        print(self.tipe)\n",
    "\n",
    "class Hero(Team,Tipe_Hero):\n",
    "    def __init__(self,team,tipe):\n",
    "        self.team=team\n",
    "        self.tipe=tipe\n",
    "\n",
    "superman=Hero('ucup',200)\n",
    "superman.setTeam('rans ciligon')\n",
    "superman.setTipe(200)\n",
    "superman.showTeam()\n",
    "print(superman.__dict__)\n",
    "\n"
   ]
  },
  {
   "cell_type": "code",
   "execution_count": null,
   "metadata": {},
   "outputs": [],
   "source": []
  }
 ]
}