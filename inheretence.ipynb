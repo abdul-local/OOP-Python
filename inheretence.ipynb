{
 "metadata": {
  "language_info": {
   "codemirror_mode": {
    "name": "ipython",
    "version": 3
   },
   "file_extension": ".py",
   "mimetype": "text/x-python",
   "name": "python",
   "nbconvert_exporter": "python",
   "pygments_lexer": "ipython3",
   "version": "3.9.2"
  },
  "orig_nbformat": 2,
  "kernelspec": {
   "name": "python392jvsc74a57bd06cbb41571b20674ffee661aa3e8e8b885ec56c497d88337beffcf280b455b3f0",
   "display_name": "Python 3.9.2 64-bit"
  },
  "metadata": {
   "interpreter": {
    "hash": "6cbb41571b20674ffee661aa3e8e8b885ec56c497d88337beffcf280b455b3f0"
   }
  }
 },
 "nbformat": 4,
 "nbformat_minor": 2,
 "cells": [
  {
   "cell_type": "code",
   "execution_count": 1,
   "metadata": {},
   "outputs": [
    {
     "output_type": "stream",
     "name": "stdout",
     "text": [
      "{'nama': 'lina', 'darah': 20}\n{'nama': 'takesi', 'darah': 30}\n"
     ]
    }
   ],
   "source": [
    "class Hero :\n",
    "    def __init__(self,nama,darah):\n",
    "        self.nama=nama\n",
    "        self.darah=darah\n",
    "\n",
    "# buat class dengan inheretence dari Hero\n",
    "class Hero_Smart(Hero):\n",
    "    pass\n",
    "\n",
    "lina=Hero('lina',20)\n",
    "takesi=Hero_Smart('takesi',30)\n",
    "print(lina.__dict__)\n",
    "print(takesi.__dict__)"
   ]
  },
  {
   "cell_type": "code",
   "execution_count": null,
   "metadata": {},
   "outputs": [],
   "source": []
  }
 ]
}