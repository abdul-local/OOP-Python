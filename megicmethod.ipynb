{
 "metadata": {
  "language_info": {
   "codemirror_mode": {
    "name": "ipython",
    "version": 3
   },
   "file_extension": ".py",
   "mimetype": "text/x-python",
   "name": "python",
   "nbconvert_exporter": "python",
   "pygments_lexer": "ipython3",
   "version": "3.9.2"
  },
  "orig_nbformat": 2,
  "kernelspec": {
   "name": "python392jvsc74a57bd06cbb41571b20674ffee661aa3e8e8b885ec56c497d88337beffcf280b455b3f0",
   "display_name": "Python 3.9.2 64-bit"
  },
  "metadata": {
   "interpreter": {
    "hash": "6cbb41571b20674ffee661aa3e8e8b885ec56c497d88337beffcf280b455b3f0"
   }
  }
 },
 "nbformat": 4,
 "nbformat_minor": 2,
 "cells": [
  {
   "cell_type": "code",
   "execution_count": 8,
   "metadata": {},
   "outputs": [
    {
     "output_type": "stream",
     "name": "stdout",
     "text": [
      " produksi nama: manggis , jumlah:20\n debug nama: nangka , jumlah:20\n20+20\n{'nama': 'manggis', 'jumlah': 20}\n"
     ]
    }
   ],
   "source": [
    "#megic method\n",
    "class Mangga:\n",
    "    #megic method\n",
    "    def __init__(self,nama,jumlah):\n",
    "        self.nama=nama\n",
    "        self.jumlah=jumlah\n",
    "    def __repr__(self):\n",
    "        return f\" debug nama: {self.nama} , jumlah:{self.jumlah}\"\n",
    "    def __str__(self):\n",
    "        return f\" produksi nama: {self.nama} , jumlah:{self.jumlah}\"\n",
    "    def __add__(self,objek):\n",
    "        return \"{}+{}\".format(self.jumlah,objek.jumlah)\n",
    "  \n",
    "manggis=Mangga('manggis',20)\n",
    "nangka=Mangga('nangka',20)\n",
    "print(manggis)\n",
    "print(repr(nangka))\n",
    "print(manggis+nangka)\n",
    "print(manggis.__dict__)\n"
   ]
  },
  {
   "cell_type": "code",
   "execution_count": null,
   "metadata": {},
   "outputs": [],
   "source": []
  }
 ]
}