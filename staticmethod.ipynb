{
 "metadata": {
  "language_info": {
   "codemirror_mode": {
    "name": "ipython",
    "version": 3
   },
   "file_extension": ".py",
   "mimetype": "text/x-python",
   "name": "python",
   "nbconvert_exporter": "python",
   "pygments_lexer": "ipython3",
   "version": "3.9.2"
  },
  "orig_nbformat": 2,
  "kernelspec": {
   "name": "python392jvsc74a57bd06cbb41571b20674ffee661aa3e8e8b885ec56c497d88337beffcf280b455b3f0",
   "display_name": "Python 3.9.2 64-bit"
  },
  "metadata": {
   "interpreter": {
    "hash": "6cbb41571b20674ffee661aa3e8e8b885ec56c497d88337beffcf280b455b3f0"
   }
  }
 },
 "nbformat": 4,
 "nbformat_minor": 2,
 "cells": [
  {
   "cell_type": "code",
   "execution_count": 10,
   "metadata": {},
   "outputs": [
    {
     "output_type": "stream",
     "name": "stdout",
     "text": [
      "{'nama': 'superman'}\n1\n1\n1\n1\n"
     ]
    }
   ],
   "source": [
    "class Hero:\n",
    "    __jumlah=0\n",
    "    def __init__(self,nama):\n",
    "        self.nama=nama\n",
    "        Hero.__jumlah+=1\n",
    "    #Method ini hanya berlaku untuk object\n",
    "    def getJumlah(self):\n",
    "        return Hero.__jumlah\n",
    "    # Method ini tidak berlaku untuk object tapi berlaku untuk kelas\n",
    "    def getJumah1():\n",
    "        return Hero.__jumlah\n",
    "    #statict method (decorator) nempel ke object dan class\n",
    "    @staticmethod\n",
    "    def getJumlah2():\n",
    "        return Hero.__jumlah\n",
    "    #Menggunakan classmethod\n",
    "    @classmethod\n",
    "    def getJumlah3(cls):\n",
    "        return cls.__jumlah\n",
    "\n",
    "\n",
    "superman=Hero('superman')\n",
    "print(superman.__dict__)\n",
    "print(Hero.getJumah1())\n",
    "print(superman.getJumlah2())\n",
    "print(Hero.getJumlah2())\n",
    "print(Hero.getJumlah3())"
   ]
  },
  {
   "cell_type": "code",
   "execution_count": null,
   "metadata": {},
   "outputs": [],
   "source": []
  }
 ]
}