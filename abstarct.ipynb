{
 "metadata": {
  "language_info": {
   "codemirror_mode": {
    "name": "ipython",
    "version": 3
   },
   "file_extension": ".py",
   "mimetype": "text/x-python",
   "name": "python",
   "nbconvert_exporter": "python",
   "pygments_lexer": "ipython3",
   "version": "3.9.2"
  },
  "orig_nbformat": 2,
  "kernelspec": {
   "name": "python392jvsc74a57bd06cbb41571b20674ffee661aa3e8e8b885ec56c497d88337beffcf280b455b3f0",
   "display_name": "Python 3.9.2 64-bit"
  },
  "metadata": {
   "interpreter": {
    "hash": "6cbb41571b20674ffee661aa3e8e8b885ec56c497d88337beffcf280b455b3f0"
   }
  }
 },
 "nbformat": 4,
 "nbformat_minor": 2,
 "cells": [
  {
   "cell_type": "code",
   "execution_count": 9,
   "metadata": {},
   "outputs": [
    {
     "output_type": "stream",
     "name": "stdout",
     "text": [
      "pushbutton click\n"
     ]
    }
   ],
   "source": [
    "#Membuat class Abstract\n",
    "#abc = abstract base class\n",
    "from abc import ABC,abstractmethod\n",
    "class Button(ABC):\n",
    "    @abstractmethod\n",
    "    def click(self):\n",
    "        pass\n",
    "\n",
    "    \n",
    "\n",
    "    # def click(self):\n",
    "    #     print(\"tombol click\")\n",
    "class PushButton(Button):\n",
    "    # artinya di paksa buat sub classnya mengimplementasikan method click\n",
    "    def click(self):\n",
    "        print(\"pushbutton click\")\n",
    "    # def click(self):\n",
    "    #     print(\"tombol push button\")\n",
    "\n",
    "tombol1=PushButton()\n",
    "tombol1.click()"
   ]
  },
  {
   "cell_type": "code",
   "execution_count": null,
   "metadata": {},
   "outputs": [],
   "source": []
  }
 ]
}